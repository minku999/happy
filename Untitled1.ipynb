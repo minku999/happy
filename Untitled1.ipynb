{
 "cells": [
  {
   "cell_type": "code",
   "execution_count": 6,
   "id": "1823839f-7b91-4298-aa3a-bea28fd041b9",
   "metadata": {},
   "outputs": [],
   "source": [
    "import pandas as pd\n",
    "from sklearn.ensemble import RandomForestClassifier\n",
    "data = pd.read_excel('iris-train.xlsx')\n",
    "x = data.iloc[:,:-1]\n",
    "y = data.iloc[:,-1]\n",
    "model = RandomForestClassifier()\n",
    "model = model.fit(x.values, y.values)\n"
   ]
  },
  {
   "cell_type": "code",
   "execution_count": 8,
   "id": "2003c592-e54a-4875-aa42-03109f79cddc",
   "metadata": {},
   "outputs": [
    {
     "data": {
      "text/plain": [
       "array(['Iris-setosa'], dtype=object)"
      ]
     },
     "execution_count": 8,
     "metadata": {},
     "output_type": "execute_result"
    }
   ],
   "source": [
    "model.predict([[4.9,\t3.1\t,1.5\t,0.1\n",
    "]])\n"
   ]
  },
  {
   "cell_type": "code",
   "execution_count": 10,
   "id": "11e3209e-8430-4f70-8355-f87409feeade",
   "metadata": {},
   "outputs": [
    {
     "data": {
      "text/plain": [
       "array(['Iris-versicolor', 'Iris-setosa', 'Iris-setosa', 'Iris-setosa',\n",
       "       'Iris-setosa', 'Iris-versicolor', 'Iris-setosa', 'Iris-setosa',\n",
       "       'Iris-setosa', 'Iris-setosa', 'Iris-setosa', 'Iris-setosa',\n",
       "       'Iris-setosa', 'Iris-setosa', 'Iris-versicolor', 'Iris-setosa',\n",
       "       'Iris-setosa', 'Iris-setosa', 'Iris-setosa', 'Iris-setosa',\n",
       "       'Iris-setosa', 'Iris-setosa', 'Iris-setosa', 'Iris-versicolor',\n",
       "       'Iris-versicolor', 'Iris-setosa', 'Iris-setosa', 'Iris-setosa',\n",
       "       'Iris-setosa', 'Iris-versicolor', 'Iris-versicolor', 'Iris-setosa',\n",
       "       'Iris-setosa', 'Iris-setosa'], dtype=object)"
      ]
     },
     "execution_count": 10,
     "metadata": {},
     "output_type": "execute_result"
    }
   ],
   "source": [
    "data_test = pd.read_excel('iris-test.xlsx')\n",
    "x_test = data_test.iloc[:,:-1]\n",
    "model.predict(x_test.values)"
   ]
  },
  {
   "cell_type": "code",
   "execution_count": 24,
   "id": "0d2a7d5d-dc88-479a-ba70-689e2db2e2b0",
   "metadata": {},
   "outputs": [
    {
     "name": "stdout",
     "output_type": "stream",
     "text": [
      "Heyy How are you !!!\n",
      "Acer\n",
      "Good_byee\n"
     ]
    }
   ],
   "source": [
    "def wish(func):\n",
    "    def wrapper():\n",
    "        print('Heyy How are you !!!')\n",
    "        func()\n",
    "        print('Good_byee')\n",
    "    return wrapper\n",
    "@wish\n",
    "def add():\n",
    "    print('Acer')\n",
    "\n",
    "add()"
   ]
  },
  {
   "cell_type": "code",
   "execution_count": null,
   "id": "37b698bd-0b42-4981-bc30-e9479da0cc82",
   "metadata": {},
   "outputs": [],
   "source": []
  }
 ],
 "metadata": {
  "kernelspec": {
   "display_name": "Python 3 (ipykernel)",
   "language": "python",
   "name": "python3"
  },
  "language_info": {
   "codemirror_mode": {
    "name": "ipython",
    "version": 3
   },
   "file_extension": ".py",
   "mimetype": "text/x-python",
   "name": "python",
   "nbconvert_exporter": "python",
   "pygments_lexer": "ipython3",
   "version": "3.12.7"
  }
 },
 "nbformat": 4,
 "nbformat_minor": 5
}
